{
 "cells": [
  {
   "cell_type": "code",
   "execution_count": 3,
   "metadata": {
    "collapsed": false
   },
   "outputs": [
    {
     "data": {
      "text/plain": [
       "<BinaryConstraint: Protein.organism.name = Drosophila persimilis>"
      ]
     },
     "execution_count": 3,
     "metadata": {},
     "output_type": "execute_result"
    }
   ],
   "source": [
    "#Jonny has created this file 12/11/15 15:00\n",
    "#This file should get all the proteins from a species and save it to a file\n",
    "\n",
    "#make sure you install intermine first: pip install --user intermine\n",
    "\n",
    "from intermine.webservice import Service\n",
    "api_key = \"11E5P0Ecnew9j1Q1EaS8\" #also don't do anything dumb or I'll get in trouble\n",
    "species_name = \"Drosophila persimilis\" #\"Drosophila virilis\" \"Drosophila erecta\" \"Drosophila sechellia\" \"Drosophila persimilis\"\n",
    "\n",
    "service = Service(\"http://www.flymine.org/flymine/service\", token = api_key)\n",
    "query = service.new_query(\"Protein\")\n",
    "query.add_constraint(\"Protein.organism.name\", \"=\", species_name)"
   ]
  },
  {
   "cell_type": "code",
   "execution_count": 6,
   "metadata": {
    "collapsed": false
   },
   "outputs": [
    {
     "name": "stdout",
     "output_type": "stream",
     "text": [
      "Protein(isFragment = None,  uniprotName = None,  molecularWeight = None,  symbol = None,  uniprotAccession = None,  name = None,  length = 205,  isUniprotCanonical = None,  genbankIdentifier = u'EDW28850',  primaryIdentifier = u'FBpp0183503',  secondaryIdentifier = u'FBpp0183503',  primaryAccession = None,  md5checksum = u'042342a4fa71473916cdb680dab1f6b9',  ecNumber = None)\n",
      "Protein(isFragment = None,  uniprotName = None,  molecularWeight = None,  symbol = None,  uniprotAccession = None,  name = None,  length = 40,  isUniprotCanonical = None,  genbankIdentifier = u'EDW24736',  primaryIdentifier = u'FBpp0187336',  secondaryIdentifier = u'FBpp0187336',  primaryAccession = None,  md5checksum = u'1d1d9ab6f053f715df6de5ae01fe108d',  ecNumber = None)\n",
      "Protein(isFragment = None,  uniprotName = None,  molecularWeight = None,  symbol = None,  uniprotAccession = None,  name = None,  length = 43,  isUniprotCanonical = None,  genbankIdentifier = u'EDW24320',  primaryIdentifier = u'FBpp0188197',  secondaryIdentifier = u'FBpp0188197',  primaryAccession = None,  md5checksum = u'548029fc22d30002500f90878dd26802',  ecNumber = None)\n",
      "Protein(isFragment = None,  uniprotName = None,  molecularWeight = None,  symbol = None,  uniprotAccession = None,  name = None,  length = 45,  isUniprotCanonical = None,  genbankIdentifier = u'EDW24330',  primaryIdentifier = u'FBpp0187572',  secondaryIdentifier = u'FBpp0187572',  primaryAccession = None,  md5checksum = u'cb886762ce9bcbb2f742ad01efc7d1fa',  ecNumber = None)\n",
      "Protein(isFragment = None,  uniprotName = None,  molecularWeight = None,  symbol = None,  uniprotAccession = None,  name = None,  length = 44,  isUniprotCanonical = None,  genbankIdentifier = u'EDW24318',  primaryIdentifier = u'FBpp0187576',  secondaryIdentifier = u'FBpp0187576',  primaryAccession = None,  md5checksum = u'f9e15e6481770fe8e18a083c3580cc5f',  ecNumber = None)\n",
      "Protein(isFragment = None,  uniprotName = None,  molecularWeight = None,  symbol = None,  uniprotAccession = None,  name = None,  length = 353,  isUniprotCanonical = None,  genbankIdentifier = u'EDW35255',  primaryIdentifier = u'FBpp0179776',  secondaryIdentifier = u'FBpp0179776',  primaryAccession = None,  md5checksum = u'd30e15532e29cf5a11b515f9d3e47284',  ecNumber = None)\n",
      "Protein(isFragment = None,  uniprotName = None,  molecularWeight = None,  symbol = None,  uniprotAccession = None,  name = None,  length = 361,  isUniprotCanonical = None,  genbankIdentifier = u'EDW34563',  primaryIdentifier = u'FBpp0186424',  secondaryIdentifier = u'FBpp0186424',  primaryAccession = None,  md5checksum = u'1c833737fccc2055d7931cdd43345e87',  ecNumber = None)\n",
      "Protein(isFragment = None,  uniprotName = None,  molecularWeight = None,  symbol = None,  uniprotAccession = None,  name = None,  length = 362,  isUniprotCanonical = None,  genbankIdentifier = u'EDW24934',  primaryIdentifier = u'FBpp0187224',  secondaryIdentifier = u'FBpp0187224',  primaryAccession = None,  md5checksum = u'4d5e5c70d26dba4ac8b582baf2c023ff',  ecNumber = None)\n",
      "Protein(isFragment = None,  uniprotName = None,  molecularWeight = None,  symbol = None,  uniprotAccession = None,  name = None,  length = 380,  isUniprotCanonical = None,  genbankIdentifier = u'EDW28086',  primaryIdentifier = u'FBpp0191421',  secondaryIdentifier = u'FBpp0191421',  primaryAccession = None,  md5checksum = u'0e10000ed85114a17d642f6ff0dac733',  ecNumber = None)\n",
      "Protein(isFragment = None,  uniprotName = None,  molecularWeight = None,  symbol = None,  uniprotAccession = None,  name = None,  length = 383,  isUniprotCanonical = None,  genbankIdentifier = u'EDW28088',  primaryIdentifier = u'FBpp0191423',  secondaryIdentifier = u'FBpp0191423',  primaryAccession = None,  md5checksum = u'402c8b2fd5b2f9d4430ebfcc01a461bd',  ecNumber = None)\n",
      "Protein(isFragment = None,  uniprotName = None,  molecularWeight = None,  symbol = None,  uniprotAccession = None,  name = None,  length = 482,  isUniprotCanonical = None,  genbankIdentifier = u'EDW24871',  primaryIdentifier = u'FBpp0188488',  secondaryIdentifier = u'FBpp0188488',  primaryAccession = None,  md5checksum = u'f981113389b9c931a42a439f8ef7d978',  ecNumber = None)\n"
     ]
    }
   ],
   "source": [
    "i = 0\n",
    "for p in query:\n",
    "    print p\n",
    "    i+=1\n",
    "    if i > 10:\n",
    "        break"
   ]
  }
 ],
 "metadata": {
  "kernelspec": {
   "display_name": "Python 2",
   "language": "python",
   "name": "python2"
  },
  "language_info": {
   "codemirror_mode": {
    "name": "ipython",
    "version": 2
   },
   "file_extension": ".py",
   "mimetype": "text/x-python",
   "name": "python",
   "nbconvert_exporter": "python",
   "pygments_lexer": "ipython2",
   "version": "2.7.10"
  }
 },
 "nbformat": 4,
 "nbformat_minor": 0
}
